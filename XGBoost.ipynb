{
 "cells": [
  {
   "cell_type": "code",
   "execution_count": 1,
   "metadata": {},
   "outputs": [
    {
     "name": "stderr",
     "output_type": "stream",
     "text": [
      "/home/raju/anaconda3/lib/python3.7/site-packages/distributed/utils.py:133: RuntimeWarning: Couldn't detect a suitable IP address for reaching '8.8.8.8', defaulting to '127.0.0.1': [Errno 101] Network is unreachable\n",
      "  RuntimeWarning,\n"
     ]
    }
   ],
   "source": [
    "import numpy as np\n",
    "import pandas as pd\n",
    "from sklearn.model_selection import train_test_split\n",
    "import pickle\n",
    "import time\n",
    "from xgboost import XGBRegressor"
   ]
  },
  {
   "cell_type": "code",
   "execution_count": 57,
   "metadata": {},
   "outputs": [
    {
     "data": {
      "text/html": [
       "<div>\n",
       "<style scoped>\n",
       "    .dataframe tbody tr th:only-of-type {\n",
       "        vertical-align: middle;\n",
       "    }\n",
       "\n",
       "    .dataframe tbody tr th {\n",
       "        vertical-align: top;\n",
       "    }\n",
       "\n",
       "    .dataframe thead th {\n",
       "        text-align: right;\n",
       "    }\n",
       "</style>\n",
       "<table border=\"1\" class=\"dataframe\">\n",
       "  <thead>\n",
       "    <tr style=\"text-align: right;\">\n",
       "      <th></th>\n",
       "      <th>store</th>\n",
       "      <th>item</th>\n",
       "      <th>sales</th>\n",
       "    </tr>\n",
       "    <tr>\n",
       "      <th>date</th>\n",
       "      <th></th>\n",
       "      <th></th>\n",
       "      <th></th>\n",
       "    </tr>\n",
       "  </thead>\n",
       "  <tbody>\n",
       "    <tr>\n",
       "      <th>2013-01-01</th>\n",
       "      <td>1</td>\n",
       "      <td>1</td>\n",
       "      <td>13</td>\n",
       "    </tr>\n",
       "    <tr>\n",
       "      <th>2013-01-02</th>\n",
       "      <td>1</td>\n",
       "      <td>1</td>\n",
       "      <td>11</td>\n",
       "    </tr>\n",
       "    <tr>\n",
       "      <th>2013-01-03</th>\n",
       "      <td>1</td>\n",
       "      <td>1</td>\n",
       "      <td>14</td>\n",
       "    </tr>\n",
       "    <tr>\n",
       "      <th>2013-01-04</th>\n",
       "      <td>1</td>\n",
       "      <td>1</td>\n",
       "      <td>13</td>\n",
       "    </tr>\n",
       "    <tr>\n",
       "      <th>2013-01-05</th>\n",
       "      <td>1</td>\n",
       "      <td>1</td>\n",
       "      <td>10</td>\n",
       "    </tr>\n",
       "  </tbody>\n",
       "</table>\n",
       "</div>"
      ],
      "text/plain": [
       "            store  item  sales\n",
       "date                          \n",
       "2013-01-01      1     1     13\n",
       "2013-01-02      1     1     11\n",
       "2013-01-03      1     1     14\n",
       "2013-01-04      1     1     13\n",
       "2013-01-05      1     1     10"
      ]
     },
     "execution_count": 57,
     "metadata": {},
     "output_type": "execute_result"
    }
   ],
   "source": [
    "train = pd.read_csv('input/train.csv', parse_dates=['date'])\n",
    "train=train.set_index('date')\n",
    "train.head()"
   ]
  },
  {
   "cell_type": "code",
   "execution_count": 3,
   "metadata": {},
   "outputs": [],
   "source": [
    "#train=train.groupby('item')"
   ]
  },
  {
   "cell_type": "code",
   "execution_count": 59,
   "metadata": {},
   "outputs": [],
   "source": [
    "train['day'] = train.index.day\n",
    "train['month'] = train.index.month\n",
    "train['year'] = train.index.year"
   ]
  },
  {
   "cell_type": "code",
   "execution_count": 60,
   "metadata": {},
   "outputs": [
    {
     "data": {
      "text/html": [
       "<div>\n",
       "<style scoped>\n",
       "    .dataframe tbody tr th:only-of-type {\n",
       "        vertical-align: middle;\n",
       "    }\n",
       "\n",
       "    .dataframe tbody tr th {\n",
       "        vertical-align: top;\n",
       "    }\n",
       "\n",
       "    .dataframe thead th {\n",
       "        text-align: right;\n",
       "    }\n",
       "</style>\n",
       "<table border=\"1\" class=\"dataframe\">\n",
       "  <thead>\n",
       "    <tr style=\"text-align: right;\">\n",
       "      <th></th>\n",
       "      <th>store</th>\n",
       "      <th>item</th>\n",
       "      <th>sales</th>\n",
       "      <th>day</th>\n",
       "      <th>month</th>\n",
       "      <th>year</th>\n",
       "    </tr>\n",
       "    <tr>\n",
       "      <th>date</th>\n",
       "      <th></th>\n",
       "      <th></th>\n",
       "      <th></th>\n",
       "      <th></th>\n",
       "      <th></th>\n",
       "      <th></th>\n",
       "    </tr>\n",
       "  </thead>\n",
       "  <tbody>\n",
       "    <tr>\n",
       "      <th>2013-01-01</th>\n",
       "      <td>1</td>\n",
       "      <td>1</td>\n",
       "      <td>13</td>\n",
       "      <td>1</td>\n",
       "      <td>1</td>\n",
       "      <td>2013</td>\n",
       "    </tr>\n",
       "    <tr>\n",
       "      <th>2013-01-02</th>\n",
       "      <td>1</td>\n",
       "      <td>1</td>\n",
       "      <td>11</td>\n",
       "      <td>2</td>\n",
       "      <td>1</td>\n",
       "      <td>2013</td>\n",
       "    </tr>\n",
       "    <tr>\n",
       "      <th>2013-01-03</th>\n",
       "      <td>1</td>\n",
       "      <td>1</td>\n",
       "      <td>14</td>\n",
       "      <td>3</td>\n",
       "      <td>1</td>\n",
       "      <td>2013</td>\n",
       "    </tr>\n",
       "    <tr>\n",
       "      <th>2013-01-04</th>\n",
       "      <td>1</td>\n",
       "      <td>1</td>\n",
       "      <td>13</td>\n",
       "      <td>4</td>\n",
       "      <td>1</td>\n",
       "      <td>2013</td>\n",
       "    </tr>\n",
       "    <tr>\n",
       "      <th>2013-01-05</th>\n",
       "      <td>1</td>\n",
       "      <td>1</td>\n",
       "      <td>10</td>\n",
       "      <td>5</td>\n",
       "      <td>1</td>\n",
       "      <td>2013</td>\n",
       "    </tr>\n",
       "  </tbody>\n",
       "</table>\n",
       "</div>"
      ],
      "text/plain": [
       "            store  item  sales  day  month  year\n",
       "date                                            \n",
       "2013-01-01      1     1     13    1      1  2013\n",
       "2013-01-02      1     1     11    2      1  2013\n",
       "2013-01-03      1     1     14    3      1  2013\n",
       "2013-01-04      1     1     13    4      1  2013\n",
       "2013-01-05      1     1     10    5      1  2013"
      ]
     },
     "execution_count": 60,
     "metadata": {},
     "output_type": "execute_result"
    }
   ],
   "source": [
    "train.head()"
   ]
  },
  {
   "cell_type": "code",
   "execution_count": 61,
   "metadata": {},
   "outputs": [],
   "source": [
    "X=train[['store','item','day','month','year']]\n",
    "Y=train[['sales']].to_numpy()"
   ]
  },
  {
   "cell_type": "code",
   "execution_count": 62,
   "metadata": {},
   "outputs": [
    {
     "data": {
      "text/plain": [
       "numpy.ndarray"
      ]
     },
     "execution_count": 62,
     "metadata": {},
     "output_type": "execute_result"
    }
   ],
   "source": [
    "type(Y)"
   ]
  },
  {
   "cell_type": "code",
   "execution_count": 93,
   "metadata": {},
   "outputs": [],
   "source": [
    "X1=X.to_numpy()"
   ]
  },
  {
   "cell_type": "code",
   "execution_count": 94,
   "metadata": {},
   "outputs": [],
   "source": [
    "X_train, X_valid, Y_train, Y_valid = train_test_split(X1,Y, test_size=0.4, random_state=0)"
   ]
  },
  {
   "cell_type": "code",
   "execution_count": 95,
   "metadata": {},
   "outputs": [
    {
     "name": "stdout",
     "output_type": "stream",
     "text": [
      "[0]\tvalidation_0-rmse:53.99022\tvalidation_1-rmse:54.02098\n",
      "Multiple eval metrics have been passed: 'validation_1-rmse' will be used for early stopping.\n",
      "\n",
      "Will train until validation_1-rmse hasn't improved in 20 rounds.\n",
      "[1]\tvalidation_0-rmse:49.35728\tvalidation_1-rmse:49.39042\n",
      "[2]\tvalidation_0-rmse:45.23918\tvalidation_1-rmse:45.27660\n",
      "[3]\tvalidation_0-rmse:41.57439\tvalidation_1-rmse:41.61510\n",
      "[4]\tvalidation_0-rmse:38.23134\tvalidation_1-rmse:38.27262\n",
      "[5]\tvalidation_0-rmse:35.30734\tvalidation_1-rmse:35.34992\n",
      "[6]\tvalidation_0-rmse:32.67073\tvalidation_1-rmse:32.71524\n",
      "[7]\tvalidation_0-rmse:30.35753\tvalidation_1-rmse:30.40474\n",
      "[8]\tvalidation_0-rmse:28.34218\tvalidation_1-rmse:28.39444\n",
      "[9]\tvalidation_0-rmse:26.55342\tvalidation_1-rmse:26.60570\n",
      "[10]\tvalidation_0-rmse:24.78146\tvalidation_1-rmse:24.83128\n",
      "[11]\tvalidation_0-rmse:23.29067\tvalidation_1-rmse:23.34008\n",
      "[12]\tvalidation_0-rmse:22.00103\tvalidation_1-rmse:22.05422\n",
      "[13]\tvalidation_0-rmse:20.97915\tvalidation_1-rmse:21.03910\n",
      "[14]\tvalidation_0-rmse:20.10822\tvalidation_1-rmse:20.17458\n",
      "[15]\tvalidation_0-rmse:19.37338\tvalidation_1-rmse:19.44518\n",
      "[16]\tvalidation_0-rmse:18.56076\tvalidation_1-rmse:18.63332\n",
      "[17]\tvalidation_0-rmse:17.81274\tvalidation_1-rmse:17.88521\n",
      "[18]\tvalidation_0-rmse:17.10286\tvalidation_1-rmse:17.17458\n",
      "[19]\tvalidation_0-rmse:16.48836\tvalidation_1-rmse:16.56224\n",
      "[20]\tvalidation_0-rmse:16.11871\tvalidation_1-rmse:16.19739\n",
      "[21]\tvalidation_0-rmse:15.65917\tvalidation_1-rmse:15.73970\n",
      "[22]\tvalidation_0-rmse:15.39301\tvalidation_1-rmse:15.47777\n",
      "[23]\tvalidation_0-rmse:14.91667\tvalidation_1-rmse:15.00393\n",
      "[24]\tvalidation_0-rmse:14.54641\tvalidation_1-rmse:14.63384\n",
      "[25]\tvalidation_0-rmse:14.14947\tvalidation_1-rmse:14.23828\n",
      "[26]\tvalidation_0-rmse:13.97842\tvalidation_1-rmse:14.07200\n",
      "[27]\tvalidation_0-rmse:13.71346\tvalidation_1-rmse:13.80676\n",
      "[28]\tvalidation_0-rmse:13.39172\tvalidation_1-rmse:13.48766\n",
      "[29]\tvalidation_0-rmse:13.11383\tvalidation_1-rmse:13.21202\n",
      "[30]\tvalidation_0-rmse:12.91778\tvalidation_1-rmse:13.01843\n",
      "[31]\tvalidation_0-rmse:12.73591\tvalidation_1-rmse:12.83839\n",
      "[32]\tvalidation_0-rmse:12.55506\tvalidation_1-rmse:12.66029\n",
      "[33]\tvalidation_0-rmse:12.33820\tvalidation_1-rmse:12.44584\n",
      "[34]\tvalidation_0-rmse:12.25561\tvalidation_1-rmse:12.36568\n",
      "[35]\tvalidation_0-rmse:12.07569\tvalidation_1-rmse:12.18930\n",
      "[36]\tvalidation_0-rmse:12.00875\tvalidation_1-rmse:12.12499\n",
      "[37]\tvalidation_0-rmse:11.81960\tvalidation_1-rmse:11.93858\n",
      "[38]\tvalidation_0-rmse:11.67627\tvalidation_1-rmse:11.79645\n",
      "[39]\tvalidation_0-rmse:11.56934\tvalidation_1-rmse:11.69327\n",
      "[40]\tvalidation_0-rmse:11.45674\tvalidation_1-rmse:11.58272\n",
      "[41]\tvalidation_0-rmse:11.38044\tvalidation_1-rmse:11.50805\n",
      "[42]\tvalidation_0-rmse:11.29732\tvalidation_1-rmse:11.42704\n",
      "[43]\tvalidation_0-rmse:11.18545\tvalidation_1-rmse:11.31836\n",
      "[44]\tvalidation_0-rmse:11.09831\tvalidation_1-rmse:11.23401\n",
      "[45]\tvalidation_0-rmse:11.03665\tvalidation_1-rmse:11.17422\n",
      "[46]\tvalidation_0-rmse:10.95469\tvalidation_1-rmse:11.09455\n",
      "[47]\tvalidation_0-rmse:10.87634\tvalidation_1-rmse:11.01866\n",
      "[48]\tvalidation_0-rmse:10.83792\tvalidation_1-rmse:10.98155\n",
      "[49]\tvalidation_0-rmse:10.77214\tvalidation_1-rmse:10.91859\n",
      "[50]\tvalidation_0-rmse:10.70852\tvalidation_1-rmse:10.85775\n",
      "[51]\tvalidation_0-rmse:10.66764\tvalidation_1-rmse:10.81888\n",
      "[52]\tvalidation_0-rmse:10.61871\tvalidation_1-rmse:10.77266\n",
      "[53]\tvalidation_0-rmse:10.58151\tvalidation_1-rmse:10.73820\n",
      "[54]\tvalidation_0-rmse:10.54072\tvalidation_1-rmse:10.69945\n",
      "[55]\tvalidation_0-rmse:10.51273\tvalidation_1-rmse:10.67211\n",
      "[56]\tvalidation_0-rmse:10.44452\tvalidation_1-rmse:10.60586\n",
      "[57]\tvalidation_0-rmse:10.41331\tvalidation_1-rmse:10.57542\n",
      "[58]\tvalidation_0-rmse:10.37471\tvalidation_1-rmse:10.53808\n",
      "[59]\tvalidation_0-rmse:10.33490\tvalidation_1-rmse:10.50121\n",
      "[60]\tvalidation_0-rmse:10.28355\tvalidation_1-rmse:10.45313\n",
      "[61]\tvalidation_0-rmse:10.24973\tvalidation_1-rmse:10.42085\n",
      "[62]\tvalidation_0-rmse:10.22753\tvalidation_1-rmse:10.40046\n",
      "[63]\tvalidation_0-rmse:10.19729\tvalidation_1-rmse:10.37250\n",
      "[64]\tvalidation_0-rmse:10.17868\tvalidation_1-rmse:10.35587\n",
      "[65]\tvalidation_0-rmse:10.15572\tvalidation_1-rmse:10.33421\n",
      "[66]\tvalidation_0-rmse:10.12403\tvalidation_1-rmse:10.30454\n",
      "[67]\tvalidation_0-rmse:10.08924\tvalidation_1-rmse:10.27227\n",
      "[68]\tvalidation_0-rmse:10.06176\tvalidation_1-rmse:10.24707\n",
      "[69]\tvalidation_0-rmse:10.03985\tvalidation_1-rmse:10.22750\n",
      "[70]\tvalidation_0-rmse:9.99758\tvalidation_1-rmse:10.18786\n",
      "[71]\tvalidation_0-rmse:9.97808\tvalidation_1-rmse:10.16980\n",
      "[72]\tvalidation_0-rmse:9.96671\tvalidation_1-rmse:10.16041\n",
      "[73]\tvalidation_0-rmse:9.93354\tvalidation_1-rmse:10.13063\n",
      "[74]\tvalidation_0-rmse:9.90812\tvalidation_1-rmse:10.10718\n",
      "[75]\tvalidation_0-rmse:9.88987\tvalidation_1-rmse:10.09085\n",
      "[76]\tvalidation_0-rmse:9.87431\tvalidation_1-rmse:10.07741\n",
      "[77]\tvalidation_0-rmse:9.86660\tvalidation_1-rmse:10.07099\n",
      "[78]\tvalidation_0-rmse:9.83949\tvalidation_1-rmse:10.04676\n",
      "[79]\tvalidation_0-rmse:9.77771\tvalidation_1-rmse:9.98569\n",
      "[80]\tvalidation_0-rmse:9.76240\tvalidation_1-rmse:9.97312\n",
      "[81]\tvalidation_0-rmse:9.74557\tvalidation_1-rmse:9.95904\n",
      "[82]\tvalidation_0-rmse:9.73824\tvalidation_1-rmse:9.95375\n",
      "[83]\tvalidation_0-rmse:9.67424\tvalidation_1-rmse:9.89133\n",
      "[84]\tvalidation_0-rmse:9.67058\tvalidation_1-rmse:9.88893\n",
      "[85]\tvalidation_0-rmse:9.66626\tvalidation_1-rmse:9.88674\n",
      "[86]\tvalidation_0-rmse:9.65788\tvalidation_1-rmse:9.88050\n",
      "[87]\tvalidation_0-rmse:9.65177\tvalidation_1-rmse:9.87647\n",
      "[88]\tvalidation_0-rmse:9.64805\tvalidation_1-rmse:9.87366\n",
      "[89]\tvalidation_0-rmse:9.63432\tvalidation_1-rmse:9.86290\n",
      "[90]\tvalidation_0-rmse:9.62128\tvalidation_1-rmse:9.85320\n",
      "[91]\tvalidation_0-rmse:9.61357\tvalidation_1-rmse:9.84772\n",
      "[92]\tvalidation_0-rmse:9.59878\tvalidation_1-rmse:9.83537\n",
      "[93]\tvalidation_0-rmse:9.57345\tvalidation_1-rmse:9.81156\n",
      "[94]\tvalidation_0-rmse:9.56431\tvalidation_1-rmse:9.80510\n",
      "[95]\tvalidation_0-rmse:9.54628\tvalidation_1-rmse:9.78903\n",
      "[96]\tvalidation_0-rmse:9.48254\tvalidation_1-rmse:9.72609\n",
      "[97]\tvalidation_0-rmse:9.47785\tvalidation_1-rmse:9.72415\n",
      "[98]\tvalidation_0-rmse:9.46892\tvalidation_1-rmse:9.71863\n",
      "[99]\tvalidation_0-rmse:9.39247\tvalidation_1-rmse:9.64372\n",
      "[100]\tvalidation_0-rmse:9.38813\tvalidation_1-rmse:9.64155\n",
      "[101]\tvalidation_0-rmse:9.37273\tvalidation_1-rmse:9.62736\n",
      "[102]\tvalidation_0-rmse:9.37049\tvalidation_1-rmse:9.62703\n",
      "[103]\tvalidation_0-rmse:9.36322\tvalidation_1-rmse:9.62359\n",
      "[104]\tvalidation_0-rmse:9.35246\tvalidation_1-rmse:9.61530\n",
      "[105]\tvalidation_0-rmse:9.33526\tvalidation_1-rmse:9.59998\n",
      "[106]\tvalidation_0-rmse:9.32711\tvalidation_1-rmse:9.59504\n",
      "[107]\tvalidation_0-rmse:9.30877\tvalidation_1-rmse:9.57812\n",
      "[108]\tvalidation_0-rmse:9.30412\tvalidation_1-rmse:9.57588\n",
      "[109]\tvalidation_0-rmse:9.30298\tvalidation_1-rmse:9.57525\n",
      "[110]\tvalidation_0-rmse:9.29890\tvalidation_1-rmse:9.57293\n",
      "[111]\tvalidation_0-rmse:9.27679\tvalidation_1-rmse:9.55179\n",
      "[112]\tvalidation_0-rmse:9.27423\tvalidation_1-rmse:9.55072\n",
      "[113]\tvalidation_0-rmse:9.27247\tvalidation_1-rmse:9.54970\n",
      "[114]\tvalidation_0-rmse:9.26844\tvalidation_1-rmse:9.54773\n",
      "[115]\tvalidation_0-rmse:9.22256\tvalidation_1-rmse:9.50371\n",
      "[116]\tvalidation_0-rmse:9.21818\tvalidation_1-rmse:9.50099\n",
      "[117]\tvalidation_0-rmse:9.21373\tvalidation_1-rmse:9.49821\n",
      "[118]\tvalidation_0-rmse:9.20822\tvalidation_1-rmse:9.49554\n",
      "[119]\tvalidation_0-rmse:9.19278\tvalidation_1-rmse:9.48272\n",
      "[120]\tvalidation_0-rmse:9.14306\tvalidation_1-rmse:9.43466\n",
      "[121]\tvalidation_0-rmse:9.14047\tvalidation_1-rmse:9.43386\n",
      "[122]\tvalidation_0-rmse:9.09732\tvalidation_1-rmse:9.39150\n",
      "[123]\tvalidation_0-rmse:9.08946\tvalidation_1-rmse:9.38590\n",
      "[124]\tvalidation_0-rmse:9.08265\tvalidation_1-rmse:9.38236\n",
      "[125]\tvalidation_0-rmse:9.02550\tvalidation_1-rmse:9.32695\n",
      "[126]\tvalidation_0-rmse:9.02142\tvalidation_1-rmse:9.32610\n",
      "[127]\tvalidation_0-rmse:9.01901\tvalidation_1-rmse:9.32507\n",
      "[128]\tvalidation_0-rmse:9.01591\tvalidation_1-rmse:9.32396\n",
      "[129]\tvalidation_0-rmse:9.01366\tvalidation_1-rmse:9.32369\n",
      "[130]\tvalidation_0-rmse:9.01091\tvalidation_1-rmse:9.32285\n",
      "[131]\tvalidation_0-rmse:8.93251\tvalidation_1-rmse:9.24658\n",
      "[132]\tvalidation_0-rmse:8.88825\tvalidation_1-rmse:9.20314\n",
      "[133]\tvalidation_0-rmse:8.88634\tvalidation_1-rmse:9.20215\n",
      "[134]\tvalidation_0-rmse:8.87273\tvalidation_1-rmse:9.18929\n",
      "[135]\tvalidation_0-rmse:8.87000\tvalidation_1-rmse:9.18892\n",
      "[136]\tvalidation_0-rmse:8.86453\tvalidation_1-rmse:9.18685\n",
      "[137]\tvalidation_0-rmse:8.86114\tvalidation_1-rmse:9.18647\n"
     ]
    },
    {
     "name": "stdout",
     "output_type": "stream",
     "text": [
      "[138]\tvalidation_0-rmse:8.85809\tvalidation_1-rmse:9.18657\n",
      "[139]\tvalidation_0-rmse:8.83388\tvalidation_1-rmse:9.16394\n",
      "[140]\tvalidation_0-rmse:8.82439\tvalidation_1-rmse:9.15644\n",
      "[141]\tvalidation_0-rmse:8.82009\tvalidation_1-rmse:9.15507\n",
      "[142]\tvalidation_0-rmse:8.79303\tvalidation_1-rmse:9.12843\n",
      "[143]\tvalidation_0-rmse:8.78999\tvalidation_1-rmse:9.12658\n",
      "[144]\tvalidation_0-rmse:8.78724\tvalidation_1-rmse:9.12541\n",
      "[145]\tvalidation_0-rmse:8.73270\tvalidation_1-rmse:9.07152\n",
      "[146]\tvalidation_0-rmse:8.72952\tvalidation_1-rmse:9.06988\n",
      "[147]\tvalidation_0-rmse:8.72504\tvalidation_1-rmse:9.06774\n",
      "[148]\tvalidation_0-rmse:8.66608\tvalidation_1-rmse:9.00896\n",
      "[149]\tvalidation_0-rmse:8.66386\tvalidation_1-rmse:9.00887\n",
      "[150]\tvalidation_0-rmse:8.66137\tvalidation_1-rmse:9.00884\n",
      "[151]\tvalidation_0-rmse:8.60293\tvalidation_1-rmse:8.95275\n",
      "[152]\tvalidation_0-rmse:8.60178\tvalidation_1-rmse:8.95277\n",
      "[153]\tvalidation_0-rmse:8.58142\tvalidation_1-rmse:8.93298\n",
      "[154]\tvalidation_0-rmse:8.54394\tvalidation_1-rmse:8.89800\n",
      "[155]\tvalidation_0-rmse:8.52605\tvalidation_1-rmse:8.88054\n",
      "[156]\tvalidation_0-rmse:8.52368\tvalidation_1-rmse:8.88044\n",
      "[157]\tvalidation_0-rmse:8.51384\tvalidation_1-rmse:8.87237\n",
      "[158]\tvalidation_0-rmse:8.51143\tvalidation_1-rmse:8.87225\n",
      "[159]\tvalidation_0-rmse:8.50900\tvalidation_1-rmse:8.87122\n",
      "[160]\tvalidation_0-rmse:8.50448\tvalidation_1-rmse:8.86835\n",
      "[161]\tvalidation_0-rmse:8.50076\tvalidation_1-rmse:8.86781\n",
      "[162]\tvalidation_0-rmse:8.49830\tvalidation_1-rmse:8.86712\n",
      "[163]\tvalidation_0-rmse:8.49670\tvalidation_1-rmse:8.86730\n",
      "[164]\tvalidation_0-rmse:8.49459\tvalidation_1-rmse:8.86720\n",
      "[165]\tvalidation_0-rmse:8.48634\tvalidation_1-rmse:8.85960\n",
      "[166]\tvalidation_0-rmse:8.45076\tvalidation_1-rmse:8.82492\n",
      "[167]\tvalidation_0-rmse:8.44945\tvalidation_1-rmse:8.82460\n",
      "[168]\tvalidation_0-rmse:8.44736\tvalidation_1-rmse:8.82446\n",
      "[169]\tvalidation_0-rmse:8.44599\tvalidation_1-rmse:8.82449\n",
      "[170]\tvalidation_0-rmse:8.44377\tvalidation_1-rmse:8.82445\n",
      "[171]\tvalidation_0-rmse:8.41355\tvalidation_1-rmse:8.79440\n",
      "[172]\tvalidation_0-rmse:8.39088\tvalidation_1-rmse:8.77216\n",
      "[173]\tvalidation_0-rmse:8.38933\tvalidation_1-rmse:8.77186\n",
      "[174]\tvalidation_0-rmse:8.33777\tvalidation_1-rmse:8.72142\n",
      "[175]\tvalidation_0-rmse:8.33499\tvalidation_1-rmse:8.72102\n",
      "[176]\tvalidation_0-rmse:8.33310\tvalidation_1-rmse:8.72088\n",
      "[177]\tvalidation_0-rmse:8.31478\tvalidation_1-rmse:8.70329\n",
      "[178]\tvalidation_0-rmse:8.31209\tvalidation_1-rmse:8.70223\n",
      "[179]\tvalidation_0-rmse:8.28630\tvalidation_1-rmse:8.67706\n",
      "[180]\tvalidation_0-rmse:8.28496\tvalidation_1-rmse:8.67677\n",
      "[181]\tvalidation_0-rmse:8.28297\tvalidation_1-rmse:8.67720\n",
      "[182]\tvalidation_0-rmse:8.27958\tvalidation_1-rmse:8.67644\n",
      "[183]\tvalidation_0-rmse:8.26123\tvalidation_1-rmse:8.66032\n",
      "[184]\tvalidation_0-rmse:8.25886\tvalidation_1-rmse:8.65956\n",
      "[185]\tvalidation_0-rmse:8.25685\tvalidation_1-rmse:8.66005\n",
      "[186]\tvalidation_0-rmse:8.25491\tvalidation_1-rmse:8.66058\n",
      "[187]\tvalidation_0-rmse:8.25281\tvalidation_1-rmse:8.66129\n",
      "[188]\tvalidation_0-rmse:8.25094\tvalidation_1-rmse:8.66157\n",
      "[189]\tvalidation_0-rmse:8.24780\tvalidation_1-rmse:8.66177\n",
      "[190]\tvalidation_0-rmse:8.24023\tvalidation_1-rmse:8.65589\n",
      "[191]\tvalidation_0-rmse:8.20250\tvalidation_1-rmse:8.61935\n",
      "[192]\tvalidation_0-rmse:8.20083\tvalidation_1-rmse:8.61971\n",
      "[193]\tvalidation_0-rmse:8.18880\tvalidation_1-rmse:8.60764\n",
      "[194]\tvalidation_0-rmse:8.17591\tvalidation_1-rmse:8.59625\n",
      "[195]\tvalidation_0-rmse:8.17421\tvalidation_1-rmse:8.59605\n",
      "[196]\tvalidation_0-rmse:8.17222\tvalidation_1-rmse:8.59585\n",
      "[197]\tvalidation_0-rmse:8.15833\tvalidation_1-rmse:8.58293\n",
      "[198]\tvalidation_0-rmse:8.15542\tvalidation_1-rmse:8.58293\n",
      "[199]\tvalidation_0-rmse:8.13162\tvalidation_1-rmse:8.55950\n",
      "[200]\tvalidation_0-rmse:8.13002\tvalidation_1-rmse:8.55973\n",
      "[201]\tvalidation_0-rmse:8.11983\tvalidation_1-rmse:8.55181\n",
      "[202]\tvalidation_0-rmse:8.11769\tvalidation_1-rmse:8.55176\n",
      "[203]\tvalidation_0-rmse:8.07659\tvalidation_1-rmse:8.51129\n",
      "[204]\tvalidation_0-rmse:8.06742\tvalidation_1-rmse:8.50267\n",
      "[205]\tvalidation_0-rmse:8.06575\tvalidation_1-rmse:8.50234\n",
      "[206]\tvalidation_0-rmse:8.06015\tvalidation_1-rmse:8.49795\n",
      "[207]\tvalidation_0-rmse:8.05910\tvalidation_1-rmse:8.49797\n",
      "[208]\tvalidation_0-rmse:8.04777\tvalidation_1-rmse:8.48895\n",
      "[209]\tvalidation_0-rmse:8.04687\tvalidation_1-rmse:8.48894\n",
      "[210]\tvalidation_0-rmse:8.04536\tvalidation_1-rmse:8.48876\n",
      "[211]\tvalidation_0-rmse:8.01641\tvalidation_1-rmse:8.46092\n",
      "[212]\tvalidation_0-rmse:8.01492\tvalidation_1-rmse:8.46070\n",
      "[213]\tvalidation_0-rmse:8.00883\tvalidation_1-rmse:8.45518\n",
      "[214]\tvalidation_0-rmse:7.98340\tvalidation_1-rmse:8.43009\n",
      "[215]\tvalidation_0-rmse:7.97683\tvalidation_1-rmse:8.42522\n",
      "[216]\tvalidation_0-rmse:7.94725\tvalidation_1-rmse:8.39667\n",
      "[217]\tvalidation_0-rmse:7.94598\tvalidation_1-rmse:8.39722\n",
      "[218]\tvalidation_0-rmse:7.93047\tvalidation_1-rmse:8.38336\n",
      "[219]\tvalidation_0-rmse:7.92860\tvalidation_1-rmse:8.38415\n",
      "[220]\tvalidation_0-rmse:7.91065\tvalidation_1-rmse:8.36750\n",
      "[221]\tvalidation_0-rmse:7.90896\tvalidation_1-rmse:8.36782\n",
      "[222]\tvalidation_0-rmse:7.90722\tvalidation_1-rmse:8.36834\n",
      "[223]\tvalidation_0-rmse:7.90557\tvalidation_1-rmse:8.36840\n",
      "[224]\tvalidation_0-rmse:7.90314\tvalidation_1-rmse:8.36858\n",
      "[225]\tvalidation_0-rmse:7.90146\tvalidation_1-rmse:8.36914\n",
      "[226]\tvalidation_0-rmse:7.89638\tvalidation_1-rmse:8.36623\n",
      "[227]\tvalidation_0-rmse:7.89434\tvalidation_1-rmse:8.36647\n",
      "[228]\tvalidation_0-rmse:7.89328\tvalidation_1-rmse:8.36660\n",
      "[229]\tvalidation_0-rmse:7.89120\tvalidation_1-rmse:8.36661\n",
      "[230]\tvalidation_0-rmse:7.89017\tvalidation_1-rmse:8.36697\n",
      "[231]\tvalidation_0-rmse:7.88883\tvalidation_1-rmse:8.36743\n",
      "[232]\tvalidation_0-rmse:7.88737\tvalidation_1-rmse:8.36789\n",
      "[233]\tvalidation_0-rmse:7.88556\tvalidation_1-rmse:8.36846\n",
      "[234]\tvalidation_0-rmse:7.86297\tvalidation_1-rmse:8.34625\n",
      "[235]\tvalidation_0-rmse:7.86157\tvalidation_1-rmse:8.34688\n",
      "[236]\tvalidation_0-rmse:7.84660\tvalidation_1-rmse:8.33284\n",
      "[237]\tvalidation_0-rmse:7.84465\tvalidation_1-rmse:8.33312\n",
      "[238]\tvalidation_0-rmse:7.84216\tvalidation_1-rmse:8.33154\n",
      "[239]\tvalidation_0-rmse:7.83920\tvalidation_1-rmse:8.32956\n",
      "[240]\tvalidation_0-rmse:7.82488\tvalidation_1-rmse:8.31622\n",
      "[241]\tvalidation_0-rmse:7.82257\tvalidation_1-rmse:8.31634\n",
      "[242]\tvalidation_0-rmse:7.82154\tvalidation_1-rmse:8.31636\n",
      "[243]\tvalidation_0-rmse:7.80990\tvalidation_1-rmse:8.30672\n",
      "[244]\tvalidation_0-rmse:7.78900\tvalidation_1-rmse:8.28595\n",
      "[245]\tvalidation_0-rmse:7.78767\tvalidation_1-rmse:8.28636\n",
      "[246]\tvalidation_0-rmse:7.77343\tvalidation_1-rmse:8.27230\n",
      "[247]\tvalidation_0-rmse:7.77151\tvalidation_1-rmse:8.27285\n",
      "[248]\tvalidation_0-rmse:7.76960\tvalidation_1-rmse:8.27315\n",
      "[249]\tvalidation_0-rmse:7.76859\tvalidation_1-rmse:8.27318\n",
      "[250]\tvalidation_0-rmse:7.76723\tvalidation_1-rmse:8.27373\n",
      "[251]\tvalidation_0-rmse:7.76566\tvalidation_1-rmse:8.27425\n",
      "[252]\tvalidation_0-rmse:7.75360\tvalidation_1-rmse:8.26348\n",
      "[253]\tvalidation_0-rmse:7.75217\tvalidation_1-rmse:8.26410\n",
      "[254]\tvalidation_0-rmse:7.73907\tvalidation_1-rmse:8.25199\n",
      "[255]\tvalidation_0-rmse:7.73797\tvalidation_1-rmse:8.25208\n",
      "[256]\tvalidation_0-rmse:7.73639\tvalidation_1-rmse:8.25276\n",
      "[257]\tvalidation_0-rmse:7.73510\tvalidation_1-rmse:8.25292\n",
      "[258]\tvalidation_0-rmse:7.73354\tvalidation_1-rmse:8.25334\n",
      "[259]\tvalidation_0-rmse:7.73227\tvalidation_1-rmse:8.25396\n",
      "[260]\tvalidation_0-rmse:7.73125\tvalidation_1-rmse:8.25399\n",
      "[261]\tvalidation_0-rmse:7.73025\tvalidation_1-rmse:8.25413\n",
      "[262]\tvalidation_0-rmse:7.72861\tvalidation_1-rmse:8.25449\n",
      "[263]\tvalidation_0-rmse:7.72759\tvalidation_1-rmse:8.25482\n",
      "[264]\tvalidation_0-rmse:7.72598\tvalidation_1-rmse:8.25501\n",
      "[265]\tvalidation_0-rmse:7.72186\tvalidation_1-rmse:8.25114\n",
      "[266]\tvalidation_0-rmse:7.72080\tvalidation_1-rmse:8.25121\n",
      "[267]\tvalidation_0-rmse:7.71992\tvalidation_1-rmse:8.25169\n",
      "[268]\tvalidation_0-rmse:7.71333\tvalidation_1-rmse:8.24593\n",
      "[269]\tvalidation_0-rmse:7.71252\tvalidation_1-rmse:8.24643\n",
      "[270]\tvalidation_0-rmse:7.71164\tvalidation_1-rmse:8.24652\n",
      "[271]\tvalidation_0-rmse:7.70481\tvalidation_1-rmse:8.23997\n",
      "[272]\tvalidation_0-rmse:7.70315\tvalidation_1-rmse:8.24043\n",
      "[273]\tvalidation_0-rmse:7.70175\tvalidation_1-rmse:8.24092\n",
      "[274]\tvalidation_0-rmse:7.69979\tvalidation_1-rmse:8.24155\n",
      "[275]\tvalidation_0-rmse:7.69922\tvalidation_1-rmse:8.24173\n",
      "[276]\tvalidation_0-rmse:7.68766\tvalidation_1-rmse:8.23221\n",
      "[277]\tvalidation_0-rmse:7.68295\tvalidation_1-rmse:8.22930\n",
      "[278]\tvalidation_0-rmse:7.67927\tvalidation_1-rmse:8.22583\n",
      "[279]\tvalidation_0-rmse:7.67798\tvalidation_1-rmse:8.22603\n"
     ]
    },
    {
     "name": "stdout",
     "output_type": "stream",
     "text": [
      "[280]\tvalidation_0-rmse:7.67676\tvalidation_1-rmse:8.22607\n",
      "[281]\tvalidation_0-rmse:7.67558\tvalidation_1-rmse:8.22619\n",
      "[282]\tvalidation_0-rmse:7.67106\tvalidation_1-rmse:8.22189\n",
      "[283]\tvalidation_0-rmse:7.66833\tvalidation_1-rmse:8.21934\n",
      "[284]\tvalidation_0-rmse:7.66701\tvalidation_1-rmse:8.21988\n",
      "[285]\tvalidation_0-rmse:7.65746\tvalidation_1-rmse:8.21128\n",
      "[286]\tvalidation_0-rmse:7.64796\tvalidation_1-rmse:8.20281\n",
      "[287]\tvalidation_0-rmse:7.63640\tvalidation_1-rmse:8.19196\n",
      "[288]\tvalidation_0-rmse:7.63451\tvalidation_1-rmse:8.19249\n",
      "[289]\tvalidation_0-rmse:7.63316\tvalidation_1-rmse:8.19158\n",
      "[290]\tvalidation_0-rmse:7.62661\tvalidation_1-rmse:8.18638\n",
      "[291]\tvalidation_0-rmse:7.61999\tvalidation_1-rmse:8.17998\n",
      "[292]\tvalidation_0-rmse:7.61864\tvalidation_1-rmse:8.18029\n",
      "[293]\tvalidation_0-rmse:7.61735\tvalidation_1-rmse:8.18073\n",
      "[294]\tvalidation_0-rmse:7.61539\tvalidation_1-rmse:8.18127\n",
      "[295]\tvalidation_0-rmse:7.61429\tvalidation_1-rmse:8.18165\n",
      "[296]\tvalidation_0-rmse:7.60867\tvalidation_1-rmse:8.17754\n",
      "[297]\tvalidation_0-rmse:7.60792\tvalidation_1-rmse:8.17788\n",
      "[298]\tvalidation_0-rmse:7.60678\tvalidation_1-rmse:8.17845\n",
      "[299]\tvalidation_0-rmse:7.60570\tvalidation_1-rmse:8.17870\n",
      "[300]\tvalidation_0-rmse:7.60435\tvalidation_1-rmse:8.17928\n",
      "[301]\tvalidation_0-rmse:7.60302\tvalidation_1-rmse:8.17955\n",
      "[302]\tvalidation_0-rmse:7.60147\tvalidation_1-rmse:8.18019\n",
      "[303]\tvalidation_0-rmse:7.59664\tvalidation_1-rmse:8.17668\n",
      "[304]\tvalidation_0-rmse:7.59508\tvalidation_1-rmse:8.17717\n",
      "[305]\tvalidation_0-rmse:7.58433\tvalidation_1-rmse:8.16686\n",
      "[306]\tvalidation_0-rmse:7.58079\tvalidation_1-rmse:8.16513\n",
      "[307]\tvalidation_0-rmse:7.57905\tvalidation_1-rmse:8.16552\n",
      "[308]\tvalidation_0-rmse:7.57747\tvalidation_1-rmse:8.16587\n",
      "[309]\tvalidation_0-rmse:7.57662\tvalidation_1-rmse:8.16625\n",
      "[310]\tvalidation_0-rmse:7.57485\tvalidation_1-rmse:8.16668\n",
      "[311]\tvalidation_0-rmse:7.57092\tvalidation_1-rmse:8.16332\n",
      "[312]\tvalidation_0-rmse:7.57001\tvalidation_1-rmse:8.16358\n",
      "[313]\tvalidation_0-rmse:7.56507\tvalidation_1-rmse:8.16035\n",
      "[314]\tvalidation_0-rmse:7.56117\tvalidation_1-rmse:8.15697\n",
      "[315]\tvalidation_0-rmse:7.56041\tvalidation_1-rmse:8.15726\n",
      "[316]\tvalidation_0-rmse:7.55516\tvalidation_1-rmse:8.15231\n",
      "[317]\tvalidation_0-rmse:7.55365\tvalidation_1-rmse:8.15208\n",
      "[318]\tvalidation_0-rmse:7.55280\tvalidation_1-rmse:8.15250\n",
      "[319]\tvalidation_0-rmse:7.55218\tvalidation_1-rmse:8.15279\n",
      "[320]\tvalidation_0-rmse:7.55007\tvalidation_1-rmse:8.15330\n",
      "[321]\tvalidation_0-rmse:7.54563\tvalidation_1-rmse:8.15036\n",
      "[322]\tvalidation_0-rmse:7.54446\tvalidation_1-rmse:8.15083\n",
      "[323]\tvalidation_0-rmse:7.54328\tvalidation_1-rmse:8.15130\n",
      "[324]\tvalidation_0-rmse:7.54076\tvalidation_1-rmse:8.14976\n",
      "[325]\tvalidation_0-rmse:7.53755\tvalidation_1-rmse:8.14717\n",
      "[326]\tvalidation_0-rmse:7.53072\tvalidation_1-rmse:8.14065\n",
      "[327]\tvalidation_0-rmse:7.52632\tvalidation_1-rmse:8.13651\n",
      "[328]\tvalidation_0-rmse:7.52110\tvalidation_1-rmse:8.13220\n",
      "[329]\tvalidation_0-rmse:7.52032\tvalidation_1-rmse:8.13244\n",
      "[330]\tvalidation_0-rmse:7.51902\tvalidation_1-rmse:8.13298\n",
      "[331]\tvalidation_0-rmse:7.51786\tvalidation_1-rmse:8.13341\n",
      "[332]\tvalidation_0-rmse:7.51525\tvalidation_1-rmse:8.13217\n",
      "[333]\tvalidation_0-rmse:7.51433\tvalidation_1-rmse:8.13262\n",
      "[334]\tvalidation_0-rmse:7.51372\tvalidation_1-rmse:8.13279\n",
      "[335]\tvalidation_0-rmse:7.50543\tvalidation_1-rmse:8.12524\n",
      "[336]\tvalidation_0-rmse:7.50223\tvalidation_1-rmse:8.12317\n",
      "[337]\tvalidation_0-rmse:7.50119\tvalidation_1-rmse:8.12354\n",
      "[338]\tvalidation_0-rmse:7.49346\tvalidation_1-rmse:8.11613\n",
      "[339]\tvalidation_0-rmse:7.49175\tvalidation_1-rmse:8.11508\n",
      "[340]\tvalidation_0-rmse:7.49016\tvalidation_1-rmse:8.11568\n",
      "[341]\tvalidation_0-rmse:7.48857\tvalidation_1-rmse:8.11613\n",
      "[342]\tvalidation_0-rmse:7.48758\tvalidation_1-rmse:8.11616\n",
      "[343]\tvalidation_0-rmse:7.48407\tvalidation_1-rmse:8.11405\n",
      "[344]\tvalidation_0-rmse:7.48296\tvalidation_1-rmse:8.11449\n",
      "[345]\tvalidation_0-rmse:7.48212\tvalidation_1-rmse:8.11473\n",
      "[346]\tvalidation_0-rmse:7.47910\tvalidation_1-rmse:8.11212\n",
      "[347]\tvalidation_0-rmse:7.47774\tvalidation_1-rmse:8.11270\n",
      "[348]\tvalidation_0-rmse:7.47665\tvalidation_1-rmse:8.11317\n",
      "[349]\tvalidation_0-rmse:7.46698\tvalidation_1-rmse:8.10409\n",
      "[350]\tvalidation_0-rmse:7.46544\tvalidation_1-rmse:8.10471\n",
      "[351]\tvalidation_0-rmse:7.46437\tvalidation_1-rmse:8.10521\n",
      "[352]\tvalidation_0-rmse:7.46313\tvalidation_1-rmse:8.10569\n",
      "[353]\tvalidation_0-rmse:7.46184\tvalidation_1-rmse:8.10645\n",
      "[354]\tvalidation_0-rmse:7.45155\tvalidation_1-rmse:8.09683\n",
      "[355]\tvalidation_0-rmse:7.44918\tvalidation_1-rmse:8.09592\n",
      "[356]\tvalidation_0-rmse:7.44803\tvalidation_1-rmse:8.09633\n",
      "[357]\tvalidation_0-rmse:7.44663\tvalidation_1-rmse:8.09667\n",
      "[358]\tvalidation_0-rmse:7.44285\tvalidation_1-rmse:8.09315\n",
      "[359]\tvalidation_0-rmse:7.44187\tvalidation_1-rmse:8.09370\n",
      "[360]\tvalidation_0-rmse:7.44077\tvalidation_1-rmse:8.09433\n",
      "[361]\tvalidation_0-rmse:7.43439\tvalidation_1-rmse:8.08850\n",
      "[362]\tvalidation_0-rmse:7.43239\tvalidation_1-rmse:8.08735\n",
      "[363]\tvalidation_0-rmse:7.43060\tvalidation_1-rmse:8.08776\n",
      "[364]\tvalidation_0-rmse:7.42861\tvalidation_1-rmse:8.08610\n",
      "[365]\tvalidation_0-rmse:7.42763\tvalidation_1-rmse:8.08615\n",
      "[366]\tvalidation_0-rmse:7.42066\tvalidation_1-rmse:8.07958\n",
      "[367]\tvalidation_0-rmse:7.41684\tvalidation_1-rmse:8.07598\n",
      "[368]\tvalidation_0-rmse:7.41288\tvalidation_1-rmse:8.07259\n",
      "[369]\tvalidation_0-rmse:7.40473\tvalidation_1-rmse:8.06486\n",
      "[370]\tvalidation_0-rmse:7.40178\tvalidation_1-rmse:8.06242\n",
      "[371]\tvalidation_0-rmse:7.40027\tvalidation_1-rmse:8.06279\n",
      "[372]\tvalidation_0-rmse:7.39961\tvalidation_1-rmse:8.06304\n",
      "[373]\tvalidation_0-rmse:7.39829\tvalidation_1-rmse:8.06341\n",
      "[374]\tvalidation_0-rmse:7.39420\tvalidation_1-rmse:8.05966\n",
      "[375]\tvalidation_0-rmse:7.39064\tvalidation_1-rmse:8.05659\n",
      "[376]\tvalidation_0-rmse:7.38830\tvalidation_1-rmse:8.05584\n",
      "[377]\tvalidation_0-rmse:7.38711\tvalidation_1-rmse:8.05625\n",
      "[378]\tvalidation_0-rmse:7.38608\tvalidation_1-rmse:8.05662\n",
      "[379]\tvalidation_0-rmse:7.38522\tvalidation_1-rmse:8.05685\n",
      "[380]\tvalidation_0-rmse:7.38456\tvalidation_1-rmse:8.05702\n",
      "[381]\tvalidation_0-rmse:7.38161\tvalidation_1-rmse:8.05522\n",
      "[382]\tvalidation_0-rmse:7.37728\tvalidation_1-rmse:8.05238\n",
      "[383]\tvalidation_0-rmse:7.37653\tvalidation_1-rmse:8.05260\n",
      "[384]\tvalidation_0-rmse:7.37620\tvalidation_1-rmse:8.05266\n",
      "[385]\tvalidation_0-rmse:7.37390\tvalidation_1-rmse:8.05085\n",
      "[386]\tvalidation_0-rmse:7.37210\tvalidation_1-rmse:8.05051\n",
      "[387]\tvalidation_0-rmse:7.37085\tvalidation_1-rmse:8.05102\n",
      "[388]\tvalidation_0-rmse:7.37017\tvalidation_1-rmse:8.05120\n",
      "[389]\tvalidation_0-rmse:7.36909\tvalidation_1-rmse:8.05161\n",
      "[390]\tvalidation_0-rmse:7.36477\tvalidation_1-rmse:8.04803\n",
      "[391]\tvalidation_0-rmse:7.36397\tvalidation_1-rmse:8.04833\n",
      "[392]\tvalidation_0-rmse:7.36122\tvalidation_1-rmse:8.04595\n",
      "[393]\tvalidation_0-rmse:7.36054\tvalidation_1-rmse:8.04629\n",
      "[394]\tvalidation_0-rmse:7.35918\tvalidation_1-rmse:8.04687\n",
      "[395]\tvalidation_0-rmse:7.35856\tvalidation_1-rmse:8.04721\n",
      "[396]\tvalidation_0-rmse:7.35463\tvalidation_1-rmse:8.04373\n",
      "[397]\tvalidation_0-rmse:7.35404\tvalidation_1-rmse:8.04392\n",
      "[398]\tvalidation_0-rmse:7.35260\tvalidation_1-rmse:8.04442\n",
      "[399]\tvalidation_0-rmse:7.34977\tvalidation_1-rmse:8.04263\n",
      "[400]\tvalidation_0-rmse:7.34821\tvalidation_1-rmse:8.04312\n",
      "[401]\tvalidation_0-rmse:7.34736\tvalidation_1-rmse:8.04348\n",
      "[402]\tvalidation_0-rmse:7.34637\tvalidation_1-rmse:8.04391\n",
      "[403]\tvalidation_0-rmse:7.34499\tvalidation_1-rmse:8.04364\n",
      "[404]\tvalidation_0-rmse:7.34297\tvalidation_1-rmse:8.04286\n",
      "[405]\tvalidation_0-rmse:7.34199\tvalidation_1-rmse:8.04215\n",
      "[406]\tvalidation_0-rmse:7.34125\tvalidation_1-rmse:8.04252\n",
      "[407]\tvalidation_0-rmse:7.33997\tvalidation_1-rmse:8.04314\n",
      "[408]\tvalidation_0-rmse:7.33914\tvalidation_1-rmse:8.04346\n",
      "[409]\tvalidation_0-rmse:7.33733\tvalidation_1-rmse:8.04413\n",
      "[410]\tvalidation_0-rmse:7.33458\tvalidation_1-rmse:8.04279\n",
      "[411]\tvalidation_0-rmse:7.33339\tvalidation_1-rmse:8.04335\n",
      "[412]\tvalidation_0-rmse:7.33270\tvalidation_1-rmse:8.04362\n",
      "[413]\tvalidation_0-rmse:7.33191\tvalidation_1-rmse:8.04381\n",
      "[414]\tvalidation_0-rmse:7.32900\tvalidation_1-rmse:8.04130\n",
      "[415]\tvalidation_0-rmse:7.32724\tvalidation_1-rmse:8.04084\n",
      "[416]\tvalidation_0-rmse:7.32648\tvalidation_1-rmse:8.04092\n",
      "[417]\tvalidation_0-rmse:7.32548\tvalidation_1-rmse:8.04148\n",
      "[418]\tvalidation_0-rmse:7.32465\tvalidation_1-rmse:8.04164\n",
      "[419]\tvalidation_0-rmse:7.32210\tvalidation_1-rmse:8.04052\n",
      "[420]\tvalidation_0-rmse:7.32172\tvalidation_1-rmse:8.04077\n",
      "[421]\tvalidation_0-rmse:7.32064\tvalidation_1-rmse:8.04126\n"
     ]
    },
    {
     "name": "stdout",
     "output_type": "stream",
     "text": [
      "[422]\tvalidation_0-rmse:7.32013\tvalidation_1-rmse:8.04138\n",
      "[423]\tvalidation_0-rmse:7.31906\tvalidation_1-rmse:8.04200\n",
      "[424]\tvalidation_0-rmse:7.31848\tvalidation_1-rmse:8.04227\n",
      "[425]\tvalidation_0-rmse:7.31789\tvalidation_1-rmse:8.04234\n",
      "[426]\tvalidation_0-rmse:7.31685\tvalidation_1-rmse:8.04288\n",
      "[427]\tvalidation_0-rmse:7.31623\tvalidation_1-rmse:8.04317\n",
      "[428]\tvalidation_0-rmse:7.31492\tvalidation_1-rmse:8.04360\n",
      "[429]\tvalidation_0-rmse:7.31344\tvalidation_1-rmse:8.04269\n",
      "[430]\tvalidation_0-rmse:7.31231\tvalidation_1-rmse:8.04316\n",
      "[431]\tvalidation_0-rmse:7.31168\tvalidation_1-rmse:8.04339\n",
      "[432]\tvalidation_0-rmse:7.30930\tvalidation_1-rmse:8.04145\n",
      "[433]\tvalidation_0-rmse:7.30866\tvalidation_1-rmse:8.04194\n",
      "[434]\tvalidation_0-rmse:7.30802\tvalidation_1-rmse:8.04140\n",
      "[435]\tvalidation_0-rmse:7.30650\tvalidation_1-rmse:8.04088\n",
      "[436]\tvalidation_0-rmse:7.30332\tvalidation_1-rmse:8.03838\n",
      "[437]\tvalidation_0-rmse:7.30044\tvalidation_1-rmse:8.03590\n",
      "[438]\tvalidation_0-rmse:7.29785\tvalidation_1-rmse:8.03395\n",
      "[439]\tvalidation_0-rmse:7.29650\tvalidation_1-rmse:8.03446\n",
      "[440]\tvalidation_0-rmse:7.29519\tvalidation_1-rmse:8.03430\n",
      "[441]\tvalidation_0-rmse:7.29436\tvalidation_1-rmse:8.03373\n",
      "[442]\tvalidation_0-rmse:7.29335\tvalidation_1-rmse:8.03428\n",
      "[443]\tvalidation_0-rmse:7.29091\tvalidation_1-rmse:8.03305\n",
      "[444]\tvalidation_0-rmse:7.28898\tvalidation_1-rmse:8.03268\n",
      "[445]\tvalidation_0-rmse:7.28533\tvalidation_1-rmse:8.02938\n",
      "[446]\tvalidation_0-rmse:7.28463\tvalidation_1-rmse:8.02959\n",
      "[447]\tvalidation_0-rmse:7.28228\tvalidation_1-rmse:8.02863\n",
      "[448]\tvalidation_0-rmse:7.27896\tvalidation_1-rmse:8.02576\n",
      "[449]\tvalidation_0-rmse:7.27831\tvalidation_1-rmse:8.02610\n",
      "[450]\tvalidation_0-rmse:7.27556\tvalidation_1-rmse:8.02385\n",
      "[451]\tvalidation_0-rmse:7.27510\tvalidation_1-rmse:8.02412\n",
      "[452]\tvalidation_0-rmse:7.27424\tvalidation_1-rmse:8.02465\n",
      "[453]\tvalidation_0-rmse:7.27311\tvalidation_1-rmse:8.02526\n",
      "[454]\tvalidation_0-rmse:7.27240\tvalidation_1-rmse:8.02558\n",
      "[455]\tvalidation_0-rmse:7.26980\tvalidation_1-rmse:8.02348\n",
      "[456]\tvalidation_0-rmse:7.26906\tvalidation_1-rmse:8.02392\n",
      "[457]\tvalidation_0-rmse:7.26828\tvalidation_1-rmse:8.02429\n",
      "[458]\tvalidation_0-rmse:7.26639\tvalidation_1-rmse:8.02278\n",
      "[459]\tvalidation_0-rmse:7.26553\tvalidation_1-rmse:8.02322\n",
      "[460]\tvalidation_0-rmse:7.26455\tvalidation_1-rmse:8.02353\n",
      "[461]\tvalidation_0-rmse:7.26232\tvalidation_1-rmse:8.02170\n",
      "[462]\tvalidation_0-rmse:7.26102\tvalidation_1-rmse:8.02217\n",
      "[463]\tvalidation_0-rmse:7.25919\tvalidation_1-rmse:8.02154\n",
      "[464]\tvalidation_0-rmse:7.25627\tvalidation_1-rmse:8.01984\n",
      "[465]\tvalidation_0-rmse:7.25476\tvalidation_1-rmse:8.01952\n",
      "[466]\tvalidation_0-rmse:7.25273\tvalidation_1-rmse:8.01847\n",
      "[467]\tvalidation_0-rmse:7.25169\tvalidation_1-rmse:8.01887\n",
      "[468]\tvalidation_0-rmse:7.25077\tvalidation_1-rmse:8.01927\n",
      "[469]\tvalidation_0-rmse:7.24946\tvalidation_1-rmse:8.01836\n",
      "[470]\tvalidation_0-rmse:7.24619\tvalidation_1-rmse:8.01631\n",
      "[471]\tvalidation_0-rmse:7.24503\tvalidation_1-rmse:8.01551\n",
      "[472]\tvalidation_0-rmse:7.24444\tvalidation_1-rmse:8.01571\n",
      "[473]\tvalidation_0-rmse:7.23989\tvalidation_1-rmse:8.01172\n",
      "[474]\tvalidation_0-rmse:7.23896\tvalidation_1-rmse:8.01204\n",
      "[475]\tvalidation_0-rmse:7.23842\tvalidation_1-rmse:8.01217\n",
      "[476]\tvalidation_0-rmse:7.23754\tvalidation_1-rmse:8.01258\n",
      "[477]\tvalidation_0-rmse:7.23688\tvalidation_1-rmse:8.01290\n",
      "[478]\tvalidation_0-rmse:7.23617\tvalidation_1-rmse:8.01325\n",
      "[479]\tvalidation_0-rmse:7.23523\tvalidation_1-rmse:8.01369\n",
      "[480]\tvalidation_0-rmse:7.23344\tvalidation_1-rmse:8.01216\n",
      "[481]\tvalidation_0-rmse:7.23154\tvalidation_1-rmse:8.01138\n",
      "[482]\tvalidation_0-rmse:7.23108\tvalidation_1-rmse:8.01166\n",
      "[483]\tvalidation_0-rmse:7.22904\tvalidation_1-rmse:8.01113\n",
      "[484]\tvalidation_0-rmse:7.22719\tvalidation_1-rmse:8.00983\n",
      "[485]\tvalidation_0-rmse:7.22664\tvalidation_1-rmse:8.01008\n",
      "[486]\tvalidation_0-rmse:7.22441\tvalidation_1-rmse:8.00940\n",
      "[487]\tvalidation_0-rmse:7.22393\tvalidation_1-rmse:8.00972\n",
      "[488]\tvalidation_0-rmse:7.22326\tvalidation_1-rmse:8.01008\n",
      "[489]\tvalidation_0-rmse:7.22241\tvalidation_1-rmse:8.01051\n",
      "[490]\tvalidation_0-rmse:7.22071\tvalidation_1-rmse:8.01110\n",
      "[491]\tvalidation_0-rmse:7.21995\tvalidation_1-rmse:8.01143\n",
      "[492]\tvalidation_0-rmse:7.21772\tvalidation_1-rmse:8.00950\n",
      "[493]\tvalidation_0-rmse:7.21597\tvalidation_1-rmse:8.00850\n",
      "[494]\tvalidation_0-rmse:7.21511\tvalidation_1-rmse:8.00895\n",
      "[495]\tvalidation_0-rmse:7.21433\tvalidation_1-rmse:8.00901\n",
      "[496]\tvalidation_0-rmse:7.21163\tvalidation_1-rmse:8.00771\n",
      "[497]\tvalidation_0-rmse:7.21070\tvalidation_1-rmse:8.00808\n",
      "[498]\tvalidation_0-rmse:7.20991\tvalidation_1-rmse:8.00853\n",
      "[499]\tvalidation_0-rmse:7.20816\tvalidation_1-rmse:8.00733\n",
      "[500]\tvalidation_0-rmse:7.20760\tvalidation_1-rmse:8.00758\n",
      "[501]\tvalidation_0-rmse:7.20599\tvalidation_1-rmse:8.00655\n",
      "[502]\tvalidation_0-rmse:7.20438\tvalidation_1-rmse:8.00548\n",
      "[503]\tvalidation_0-rmse:7.20364\tvalidation_1-rmse:8.00585\n",
      "[504]\tvalidation_0-rmse:7.20076\tvalidation_1-rmse:8.00454\n",
      "[505]\tvalidation_0-rmse:7.19889\tvalidation_1-rmse:8.00387\n",
      "[506]\tvalidation_0-rmse:7.19806\tvalidation_1-rmse:8.00412\n",
      "[507]\tvalidation_0-rmse:7.19686\tvalidation_1-rmse:8.00463\n",
      "[508]\tvalidation_0-rmse:7.19472\tvalidation_1-rmse:8.00352\n",
      "[509]\tvalidation_0-rmse:7.19335\tvalidation_1-rmse:8.00391\n",
      "[510]\tvalidation_0-rmse:7.19247\tvalidation_1-rmse:8.00434\n",
      "[511]\tvalidation_0-rmse:7.19127\tvalidation_1-rmse:8.00418\n",
      "[512]\tvalidation_0-rmse:7.19079\tvalidation_1-rmse:8.00437\n",
      "[513]\tvalidation_0-rmse:7.18867\tvalidation_1-rmse:8.00245\n",
      "[514]\tvalidation_0-rmse:7.18766\tvalidation_1-rmse:8.00293\n",
      "[515]\tvalidation_0-rmse:7.18580\tvalidation_1-rmse:8.00219\n",
      "[516]\tvalidation_0-rmse:7.18487\tvalidation_1-rmse:8.00252\n",
      "[517]\tvalidation_0-rmse:7.18337\tvalidation_1-rmse:8.00134\n",
      "[518]\tvalidation_0-rmse:7.18227\tvalidation_1-rmse:8.00074\n",
      "[519]\tvalidation_0-rmse:7.18084\tvalidation_1-rmse:7.99961\n",
      "[520]\tvalidation_0-rmse:7.18018\tvalidation_1-rmse:7.99925\n",
      "[521]\tvalidation_0-rmse:7.17977\tvalidation_1-rmse:7.99936\n",
      "[522]\tvalidation_0-rmse:7.17850\tvalidation_1-rmse:7.99983\n",
      "[523]\tvalidation_0-rmse:7.17775\tvalidation_1-rmse:8.00019\n",
      "[524]\tvalidation_0-rmse:7.17710\tvalidation_1-rmse:8.00044\n",
      "[525]\tvalidation_0-rmse:7.17630\tvalidation_1-rmse:8.00096\n",
      "[526]\tvalidation_0-rmse:7.17479\tvalidation_1-rmse:8.00144\n",
      "[527]\tvalidation_0-rmse:7.17389\tvalidation_1-rmse:8.00181\n",
      "[528]\tvalidation_0-rmse:7.17341\tvalidation_1-rmse:8.00213\n",
      "[529]\tvalidation_0-rmse:7.17196\tvalidation_1-rmse:8.00196\n",
      "[530]\tvalidation_0-rmse:7.17007\tvalidation_1-rmse:8.00120\n",
      "[531]\tvalidation_0-rmse:7.16958\tvalidation_1-rmse:8.00140\n",
      "[532]\tvalidation_0-rmse:7.16922\tvalidation_1-rmse:8.00165\n",
      "[533]\tvalidation_0-rmse:7.16833\tvalidation_1-rmse:8.00219\n",
      "[534]\tvalidation_0-rmse:7.16736\tvalidation_1-rmse:8.00274\n",
      "[535]\tvalidation_0-rmse:7.16623\tvalidation_1-rmse:8.00317\n",
      "[536]\tvalidation_0-rmse:7.16383\tvalidation_1-rmse:8.00128\n",
      "[537]\tvalidation_0-rmse:7.16217\tvalidation_1-rmse:8.00073\n",
      "[538]\tvalidation_0-rmse:7.16094\tvalidation_1-rmse:8.00125\n",
      "[539]\tvalidation_0-rmse:7.16001\tvalidation_1-rmse:8.00179\n",
      "[540]\tvalidation_0-rmse:7.15896\tvalidation_1-rmse:8.00216\n",
      "Stopping. Best iteration:\n",
      "[520]\tvalidation_0-rmse:7.18018\tvalidation_1-rmse:7.99925\n",
      "\n"
     ]
    },
    {
     "data": {
      "text/plain": [
       "408.09181809425354"
      ]
     },
     "execution_count": 95,
     "metadata": {},
     "output_type": "execute_result"
    }
   ],
   "source": [
    "ts = time.time()\n",
    "\n",
    "model = XGBRegressor(\n",
    "    max_depth=10,\n",
    "    n_estimators=1000,\n",
    "    min_child_weight=0.5, \n",
    "    colsample_bytree=0.8, \n",
    "    subsample=0.8, \n",
    "    eta=0.1,\n",
    "#     tree_method='gpu_hist',\n",
    "    seed=42)\n",
    "\n",
    "model.fit(\n",
    "    X_train, \n",
    "    Y_train, \n",
    "    eval_metric=\"rmse\", \n",
    "    eval_set=[(X_train, Y_train), (X_valid, Y_valid)], \n",
    "    verbose=True, \n",
    "    early_stopping_rounds = 20)\n",
    "\n",
    "time.time() - ts"
   ]
  },
  {
   "cell_type": "code",
   "execution_count": 96,
   "metadata": {},
   "outputs": [],
   "source": [
    "y_pred = model.predict(X_valid)"
   ]
  },
  {
   "cell_type": "code",
   "execution_count": 97,
   "metadata": {},
   "outputs": [
    {
     "data": {
      "text/plain": [
       "((365200,), (365200, 1))"
      ]
     },
     "execution_count": 97,
     "metadata": {},
     "output_type": "execute_result"
    }
   ],
   "source": [
    "y_pred.shape,Y_valid.shape"
   ]
  },
  {
   "cell_type": "code",
   "execution_count": 98,
   "metadata": {},
   "outputs": [
    {
     "data": {
      "text/plain": [
       "(numpy.ndarray, numpy.ndarray)"
      ]
     },
     "execution_count": 98,
     "metadata": {},
     "output_type": "execute_result"
    }
   ],
   "source": [
    "type(y_pred),type(Y_valid)"
   ]
  },
  {
   "cell_type": "code",
   "execution_count": 99,
   "metadata": {},
   "outputs": [
    {
     "data": {
      "text/plain": [
       "numpy.float32"
      ]
     },
     "execution_count": 99,
     "metadata": {},
     "output_type": "execute_result"
    }
   ],
   "source": [
    "type(y_pred[0])"
   ]
  },
  {
   "cell_type": "code",
   "execution_count": 100,
   "metadata": {},
   "outputs": [],
   "source": [
    "y_test=Y_valid[:,0].astype(float)"
   ]
  },
  {
   "cell_type": "code",
   "execution_count": 101,
   "metadata": {},
   "outputs": [
    {
     "data": {
      "text/plain": [
       "numpy.float64"
      ]
     },
     "execution_count": 101,
     "metadata": {},
     "output_type": "execute_result"
    }
   ],
   "source": [
    "type(y_test[0])"
   ]
  },
  {
   "cell_type": "code",
   "execution_count": 102,
   "metadata": {},
   "outputs": [
    {
     "data": {
      "text/plain": [
       "63.98911589528639"
      ]
     },
     "execution_count": 102,
     "metadata": {},
     "output_type": "execute_result"
    }
   ],
   "source": [
    "from sklearn.metrics import mean_squared_error\n",
    "mean_squared_error(y_test, y_pred)"
   ]
  },
  {
   "cell_type": "code",
   "execution_count": 117,
   "metadata": {},
   "outputs": [
    {
     "data": {
      "text/plain": [
       "(365200, 5)"
      ]
     },
     "execution_count": 117,
     "metadata": {},
     "output_type": "execute_result"
    }
   ],
   "source": [
    "X_valid.shape"
   ]
  },
  {
   "cell_type": "code",
   "execution_count": 118,
   "metadata": {},
   "outputs": [],
   "source": [
    "x=np.array([[6,35,19,5,2015]])"
   ]
  },
  {
   "cell_type": "code",
   "execution_count": 119,
   "metadata": {},
   "outputs": [
    {
     "data": {
      "text/plain": [
       "(1, 5)"
      ]
     },
     "execution_count": 119,
     "metadata": {},
     "output_type": "execute_result"
    }
   ],
   "source": [
    "x.shape"
   ]
  },
  {
   "cell_type": "code",
   "execution_count": 121,
   "metadata": {},
   "outputs": [],
   "source": [
    "z=model.predict(x)"
   ]
  },
  {
   "cell_type": "code",
   "execution_count": 126,
   "metadata": {},
   "outputs": [
    {
     "data": {
      "text/plain": [
       "51.85673"
      ]
     },
     "execution_count": 126,
     "metadata": {},
     "output_type": "execute_result"
    }
   ],
   "source": [
    "z[0]"
   ]
  },
  {
   "cell_type": "code",
   "execution_count": 127,
   "metadata": {},
   "outputs": [
    {
     "data": {
      "text/plain": [
       "['model_xg.joblib']"
      ]
     },
     "execution_count": 127,
     "metadata": {},
     "output_type": "execute_result"
    }
   ],
   "source": [
    "from joblib import dump, load\n",
    "dump(model,'model_xg.joblib') "
   ]
  }
 ],
 "metadata": {
  "kernelspec": {
   "display_name": "Python 3",
   "language": "python",
   "name": "python3"
  },
  "language_info": {
   "codemirror_mode": {
    "name": "ipython",
    "version": 3
   },
   "file_extension": ".py",
   "mimetype": "text/x-python",
   "name": "python",
   "nbconvert_exporter": "python",
   "pygments_lexer": "ipython3",
   "version": "3.7.4"
  }
 },
 "nbformat": 4,
 "nbformat_minor": 2
}
